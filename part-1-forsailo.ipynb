{
 "cells": [
  {
   "cell_type": "markdown",
   "metadata": {},
   "source": [
    "# Getting Started\n",
    "\n",
    "In this exercise, you'll get familiar with the following basics of python:\n",
    "\n",
    "- Creating variables (lists, dictionaries)\n",
    "- Writing functions\n",
    "- List comprehensions"
   ]
  },
  {
   "cell_type": "markdown",
   "metadata": {},
   "source": [
    "# Student Info\n",
    "\n",
    "- Name: Zoshua Colah\n",
    "- Age: 23\n",
    "- Occupation: Teacher\n",
    "\n",
    "*this is mock data*\n",
    "\n",
    "**this is bold data**\n",
    "\n",
    "***this is bold and italics data***"
   ]
  },
  {
   "cell_type": "markdown",
   "metadata": {},
   "source": [
    "# Basic variables\n",
    "Variables in python are loosely typed, so you can quickly create numeric, character, or boolean values. Variable names should be expressive, and be written as lower-case words that are underscore separated (i.e., `variable_name`)"
   ]
  },
  {
   "cell_type": "code",
   "execution_count": 7,
   "metadata": {},
   "outputs": [
    {
     "data": {
      "text/plain": [
       "'Zoshua Colah'"
      ]
     },
     "execution_count": 7,
     "metadata": {},
     "output_type": "execute_result"
    }
   ],
   "source": [
    "# My Name\n",
    "my_name = \"Zoshua Colah\"\n",
    "my_name"
   ]
  },
  {
   "cell_type": "code",
   "execution_count": 8,
   "metadata": {},
   "outputs": [
    {
     "data": {
      "text/plain": [
       "23"
      ]
     },
     "execution_count": 8,
     "metadata": {},
     "output_type": "execute_result"
    }
   ],
   "source": [
    "# My Age\n",
    "my_age = 23\n",
    "my_age"
   ]
  },
  {
   "cell_type": "code",
   "execution_count": 9,
   "metadata": {},
   "outputs": [
    {
     "data": {
      "text/plain": [
       "63"
      ]
     },
     "execution_count": 9,
     "metadata": {},
     "output_type": "execute_result"
    }
   ],
   "source": [
    "# Mother's Age\n",
    "mother_age = 63\n",
    "mother_age"
   ]
  },
  {
   "cell_type": "code",
   "execution_count": 10,
   "metadata": {},
   "outputs": [
    {
     "data": {
      "text/plain": [
       "65"
      ]
     },
     "execution_count": 10,
     "metadata": {},
     "output_type": "execute_result"
    }
   ],
   "source": [
    "# Father's Age\n",
    "father_age = 65\n",
    "father_age"
   ]
  },
  {
   "cell_type": "code",
   "execution_count": 33,
   "metadata": {},
   "outputs": [
    {
     "name": "stdout",
     "output_type": "stream",
     "text": [
      "My age: 23\n",
      "My mother's age: 63\n",
      "My father's age: 65\n"
     ]
    }
   ],
   "source": [
    "print(\"My age:\", my_age)\n",
    "print(\"My mother's age:\", mother_age)\n",
    "print(\"My father's age:\", father_age)"
   ]
  },
  {
   "cell_type": "code",
   "execution_count": 36,
   "metadata": {},
   "outputs": [
    {
     "data": {
      "text/plain": [
       "False"
      ]
     },
     "execution_count": 36,
     "metadata": {},
     "output_type": "execute_result"
    }
   ],
   "source": [
    "# Is mother elder than father\n",
    "is_mom_elder_to_father = mother_age > father_age\n",
    "is_mom_elder_to_father"
   ]
  },
  {
   "cell_type": "code",
   "execution_count": 12,
   "metadata": {},
   "outputs": [
    {
     "data": {
      "text/plain": [
       "50.333333333333336"
      ]
     },
     "execution_count": 12,
     "metadata": {},
     "output_type": "execute_result"
    }
   ],
   "source": [
    "# Family's Average Age\n",
    "family_average_age = (my_age + mother_age + father_age)/3\n",
    "family_average_age"
   ]
  },
  {
   "cell_type": "code",
   "execution_count": 18,
   "metadata": {},
   "outputs": [
    {
     "data": {
      "text/plain": [
       "\"My family's average age is \""
      ]
     },
     "execution_count": 18,
     "metadata": {},
     "output_type": "execute_result"
    }
   ],
   "source": [
    "#Starting Phrase\n",
    "starting_phrase = \"My family's average age is \"\n",
    "starting_phrase"
   ]
  },
  {
   "cell_type": "code",
   "execution_count": 19,
   "metadata": {},
   "outputs": [
    {
     "data": {
      "text/plain": [
       "\"My family's average age is 50.333333333333336\""
      ]
     },
     "execution_count": 19,
     "metadata": {},
     "output_type": "execute_result"
    }
   ],
   "source": [
    "#Sentence\n",
    "sentence = starting_phrase + str(family_average_age)\n",
    "sentence"
   ]
  },
  {
   "cell_type": "markdown",
   "metadata": {},
   "source": [
    "# Mini-Challenge Exercise: Create a variable that calculates how many seconds are in a week. Once you create this variable write a print statement that looks "
   ]
  },
  {
   "cell_type": "code",
   "execution_count": 25,
   "metadata": {},
   "outputs": [
    {
     "data": {
      "text/plain": [
       "604800"
      ]
     },
     "execution_count": 25,
     "metadata": {},
     "output_type": "execute_result"
    }
   ],
   "source": [
    "#1 minute has 60 seconds\n",
    "#1 hour has 60 minutes\n",
    "#1 day has 24 hours\n",
    "#1 week has 7 days\n",
    "\n",
    "seconds_in_a_week = 60*60*24*7\n",
    "seconds_in_a_week"
   ]
  },
  {
   "cell_type": "code",
   "execution_count": 35,
   "metadata": {},
   "outputs": [
    {
     "data": {
      "text/plain": [
       "'In a week there are 604800 seconds'"
      ]
     },
     "execution_count": 35,
     "metadata": {},
     "output_type": "execute_result"
    }
   ],
   "source": [
    "#Seconds in a Week Statement\n",
    "seconds_week_statement=\"In a week there are \" + str((60*60*24*7)) + \" seconds\"\n",
    "seconds_week_statement"
   ]
  },
  {
   "cell_type": "code",
   "execution_count": 36,
   "metadata": {},
   "outputs": [
    {
     "data": {
      "text/plain": [
       "'8760 hours'"
      ]
     },
     "execution_count": 36,
     "metadata": {},
     "output_type": "execute_result"
    }
   ],
   "source": [
    "# Create a numeric variable `hours_in_a_year` equal to the number of hours in a year\n",
    "\n",
    "# A normal year has 365 days and one day has 24 hours\n",
    "days_in_a_year = 365\n",
    "hours_in_a_day = 24\n",
    "hours_in_a_year = str((days_in_a_year*hours_in_a_day)) + \" hours\"\n",
    "hours_in_a_year"
   ]
  },
  {
   "cell_type": "code",
   "execution_count": 2,
   "metadata": {},
   "outputs": [
    {
     "data": {
      "text/plain": [
       "'86400 seconds'"
      ]
     },
     "execution_count": 2,
     "metadata": {},
     "output_type": "execute_result"
    }
   ],
   "source": [
    "# Create a numeric variable `seconds_in_a_day` equal to the number of seconds in a day\n",
    "\n",
    "# One day has 24 hours \n",
    "# One hour has 60 minutes \n",
    "# One minute has 60 seconds\n",
    "seconds_in_a_day = str((24 * 60 * 60)) + \" seconds\"\n",
    "seconds_in_a_day"
   ]
  },
  {
   "cell_type": "code",
   "execution_count": 3,
   "metadata": {},
   "outputs": [
    {
     "data": {
      "text/plain": [
       "False"
      ]
     },
     "execution_count": 3,
     "metadata": {},
     "output_type": "execute_result"
    }
   ],
   "source": [
    "# Create a boolean variable `more_seconds_than_hours` that is true \n",
    "# if there are more seconds in a day than hours in a year\n",
    "more_seconds_than_hours = seconds_in_a_day > hours_in_a_year \n",
    "more_seconds_than_hours"
   ]
  },
  {
   "cell_type": "code",
   "execution_count": 4,
   "metadata": {},
   "outputs": [
    {
     "name": "stdout",
     "output_type": "stream",
     "text": [
      "8760 hours\n",
      "86400 seconds\n",
      "False\n"
     ]
    }
   ],
   "source": [
    "# Print out all 3 of your variables\n",
    "print(hours_in_a_year)\n",
    "print(seconds_in_a_day)\n",
    "print(more_seconds_than_hours)"
   ]
  },
  {
   "cell_type": "code",
   "execution_count": 5,
   "metadata": {},
   "outputs": [
    {
     "name": "stdout",
     "output_type": "stream",
     "text": [
      "I just learned that there are 8760 hourshours in a year, and 86400 seconds seconds in a day\n"
     ]
    }
   ],
   "source": [
    "# Create and print a character variable `learned` that holds the string:\n",
    "# \"I just learned that there are X hours in a year, and Y seconds in a day\"\n",
    "# Replace X and Y with the values from above\n",
    "\n",
    "learned = \"I just learned that there are \" +  hours_in_a_year + \"hours in a year, and \" + seconds_in_a_day + \" seconds in a day\"\n",
    "print(learned)\n"
   ]
  },
  {
   "cell_type": "markdown",
   "metadata": {},
   "source": [
    "# Lists and Dictionaries\n",
    "\n",
    "## Lists\n",
    "A **list** is a mutable, ordered sequence of values that are all stored in a single variable. You can create a list of elements by placing comma separated values inside of square brackets. Note, elements may be of different types.\n"
   ]
  },
  {
   "cell_type": "code",
   "execution_count": 2,
   "metadata": {},
   "outputs": [
    {
     "data": {
      "text/plain": [
       "['prithvi', 'ranveer', 'sanat']"
      ]
     },
     "execution_count": 2,
     "metadata": {},
     "output_type": "execute_result"
    }
   ],
   "source": [
    "# friends in area\n",
    "friends_in_area = [\"prithvi\", \"ranveer\", \"sanat\"]\n",
    "friends_in_area"
   ]
  },
  {
   "cell_type": "code",
   "execution_count": 3,
   "metadata": {},
   "outputs": [
    {
     "data": {
      "text/plain": [
       "['prithvi', 'ranveer', 'sanat', 'aditya']"
      ]
     },
     "execution_count": 3,
     "metadata": {},
     "output_type": "execute_result"
    }
   ],
   "source": [
    "friends_in_area.append(\"aditya\")\n",
    "friends_in_area"
   ]
  },
  {
   "cell_type": "code",
   "execution_count": 7,
   "metadata": {},
   "outputs": [
    {
     "data": {
      "text/plain": [
       "['Kashmira', 'Marbin', 'Zahid']"
      ]
     },
     "execution_count": 7,
     "metadata": {},
     "output_type": "execute_result"
    }
   ],
   "source": [
    "# Create a list `family` that has a list of 3 of your family members' names in it\n",
    "family = [\"Kashmira\", \"Marbin\", \"Zahid\"]\n",
    "family"
   ]
  },
  {
   "cell_type": "code",
   "execution_count": 8,
   "metadata": {},
   "outputs": [
    {
     "data": {
      "text/plain": [
       "['Kashmira', 'Marbin', 'Zahid', 'Zoshua']"
      ]
     },
     "execution_count": 8,
     "metadata": {},
     "output_type": "execute_result"
    }
   ],
   "source": [
    "# Use the `append` list method to add another family member to your `family` list\n",
    "family.append(\"Zoshua\")\n",
    "family"
   ]
  },
  {
   "cell_type": "code",
   "execution_count": 9,
   "metadata": {},
   "outputs": [
    {
     "data": {
      "text/plain": [
       "['Kashmira', 'Marbin', 'Zahid', 'Zoshua', 'Utsav', 'Varun', 'Zubair']"
      ]
     },
     "execution_count": 9,
     "metadata": {},
     "output_type": "execute_result"
    }
   ],
   "source": [
    "# Create and print a list `people` that contains your lists `friends` and `family`\n",
    "\n",
    "people = family + friends\n",
    "people"
   ]
  },
  {
   "cell_type": "markdown",
   "metadata": {},
   "source": [
    "## Dictionaries\n",
    "A **dictionary** is an object stores a _key-value pair_ in python. You can create a dictionary by passing _colon separated_ pairs inside of curly braces (i.e., `dict = {'key':value}`)"
   ]
  },
  {
   "cell_type": "code",
   "execution_count": 11,
   "metadata": {},
   "outputs": [
    {
     "ename": "SyntaxError",
     "evalue": "invalid syntax (<ipython-input-11-4bd1c83f388a>, line 2)",
     "output_type": "error",
     "traceback": [
      "\u001b[1;36m  File \u001b[1;32m\"<ipython-input-11-4bd1c83f388a>\"\u001b[1;36m, line \u001b[1;32m2\u001b[0m\n\u001b[1;33m    tanuj_dictionary  \"age\":18}\u001b[0m\n\u001b[1;37m                      ^\u001b[0m\n\u001b[1;31mSyntaxError\u001b[0m\u001b[1;31m:\u001b[0m invalid syntax\n"
     ]
    }
   ],
   "source": [
    "\n",
    "tanuj_dictionary={\"name\":\"tanuj shanghvi\",\n",
    "tanuj_dictionary  \"age\":18}\n"
   ]
  },
  {
   "cell_type": "code",
   "execution_count": 11,
   "metadata": {},
   "outputs": [
    {
     "data": {
      "text/plain": [
       "{'coworkers': ['zubair', 'ansul', 'yiran'],\n",
       " 'family': ['Kashmira', 'Marbin', 'Zahid', 'Zoshua'],\n",
       " 'friends': ['Utsav', 'Varun', 'Zubair']}"
      ]
     },
     "execution_count": 11,
     "metadata": {},
     "output_type": "execute_result"
    }
   ],
   "source": [
    "# Add a new key `coworkers` to your `people_dict` object (it should contain 3 names of coworkers) \n",
    "people_dict[\"coworkers\"] = [\"zubair\", \"ansul\", \"yiran\"]\n",
    "people_dict"
   ]
  },
  {
   "cell_type": "code",
   "execution_count": 12,
   "metadata": {},
   "outputs": [
    {
     "name": "stdout",
     "output_type": "stream",
     "text": [
      "{'family': ['Kashmira', 'Marbin', 'Zahid', 'Zoshua'], 'friends': ['Utsav', 'Varun', 'Zubair'], 'coworkers': ['zubair', 'ansul', 'yiran']}\n"
     ]
    }
   ],
   "source": [
    "# Print your people_dict object\n",
    "print(people_dict)"
   ]
  },
  {
   "cell_type": "code",
   "execution_count": 13,
   "metadata": {},
   "outputs": [
    {
     "data": {
      "text/plain": [
       "3"
      ]
     },
     "execution_count": 13,
     "metadata": {},
     "output_type": "execute_result"
    }
   ],
   "source": [
    "# Create and print a variable `num_people_categories` that conatins the *number of keys* of your `people_dict` \n",
    "num_people_categories = len(people_dict)\n",
    "num_people_categories"
   ]
  },
  {
   "cell_type": "markdown",
   "metadata": {},
   "source": [
    "# Functions\n",
    "Functions are a series of executable steps stored in a variable. They can be created with the `def` keyword."
   ]
  },
  {
   "cell_type": "code",
   "execution_count": 14,
   "metadata": {},
   "outputs": [],
   "source": [
    "# Write a function `make_awesome` that adds the string \" is awesome!\" to the end of any parameter it is passed\n",
    "# Include a proper doc string that describes what the function returns\n",
    "\n",
    "\n",
    "# returns the words \" is awesome\" after the string (text_input) passed through parameters\n",
    "def make_awesome(text_input): \n",
    "    return text_input + \" is awesome!\"\n",
    "\n",
    "\n"
   ]
  },
  {
   "cell_type": "code",
   "execution_count": 15,
   "metadata": {},
   "outputs": [
    {
     "data": {
      "text/plain": [
       "'data science is awesome!'"
      ]
     },
     "execution_count": 15,
     "metadata": {},
     "output_type": "execute_result"
    }
   ],
   "source": [
    "# Pass \"Data Science\" to your function\n",
    "make_awesome(\"data science\")\n"
   ]
  },
  {
   "cell_type": "code",
   "execution_count": 16,
   "metadata": {},
   "outputs": [],
   "source": [
    "# Write a function `is_it_awesome` that returns a boolean (true/false) if a string has the word \"awesome\" in it\n",
    "# Include a proper doc string that describes what the function returns\n",
    "\n",
    "# returns a boolean if the string passed through parameters contains \"awesome\"\n",
    "def is_it_awesome(text_input): \n",
    "    return \"awesome\" in text_input\n",
    "\n",
    "\n",
    "    "
   ]
  },
  {
   "cell_type": "code",
   "execution_count": 17,
   "metadata": {},
   "outputs": [
    {
     "data": {
      "text/plain": [
       "True"
      ]
     },
     "execution_count": 17,
     "metadata": {},
     "output_type": "execute_result"
    }
   ],
   "source": [
    "# Pass a phrase of your choice to the `is_it_awesome` function\n",
    "\n",
    "is_it_awesome(\"mike is awesome\")\n"
   ]
  },
  {
   "cell_type": "code",
   "execution_count": 18,
   "metadata": {},
   "outputs": [],
   "source": [
    "# Write a more general function `phrase_has_string` that takes in a `phrase` and a `string` and returns\n",
    "# A boolean indicating if the phrase contains the string. It should not be case sensitive.\n",
    "# Include a proper doc string that describes what the function returns\n",
    "\n",
    "# returns a boolean if the text contains the phrase passed through the parameters\n",
    "def phrase_has_string(phrase, text_input): \n",
    "    return phrase in text_input\n"
   ]
  },
  {
   "cell_type": "code",
   "execution_count": 19,
   "metadata": {},
   "outputs": [
    {
     "data": {
      "text/plain": [
       "True"
      ]
     },
     "execution_count": 19,
     "metadata": {},
     "output_type": "execute_result"
    }
   ],
   "source": [
    "# Test out your function\n",
    "phrase_has_string(\"car\", \"I want a car ...amongst other things\")"
   ]
  },
  {
   "cell_type": "code",
   "execution_count": 23,
   "metadata": {},
   "outputs": [],
   "source": [
    "# Define a function `count_relationships` that takes in a dictionary of relationships (such as `people_dict`)\n",
    "# And returns a dictionary of the number of relationships of each type (i.e. {\"friends\":4, \"family\":3})\n",
    "# Hint: use a loop\n",
    "# Include a proper doc string that describes what the function returns\n",
    "\n",
    "\n",
    "# returns the number of values in a list for each key in the dictionary passed through the parameters\n",
    "def count_relationships(relationships):\n",
    "    for k in relationships:\n",
    "        relationships[k] = len(relationships[k])\n",
    "    return (relationships)"
   ]
  },
  {
   "cell_type": "code",
   "execution_count": 27,
   "metadata": {},
   "outputs": [],
   "source": []
  },
  {
   "cell_type": "code",
   "execution_count": 29,
   "metadata": {},
   "outputs": [
    {
     "data": {
      "text/plain": [
       "{'coworkers': 3, 'family': 4, 'friends': 3}"
      ]
     },
     "execution_count": 29,
     "metadata": {},
     "output_type": "execute_result"
    }
   ],
   "source": [
    "# Pass `people_dict` to `count_relationships`\n",
    "count_relationships(people_dict)"
   ]
  },
  {
   "cell_type": "code",
   "execution_count": 26,
   "metadata": {},
   "outputs": [],
   "source": [
    "# Define a function `total_relationships` take in a dictionary of relationships (such as `people_dict`)\n",
    "# And returns the total number of relationships\n",
    "# Hint: use a *list comprehension* and your `count_relationships` function (separately)\n",
    "# Include a proper doc string that describes what the function returns\n",
    "\n",
    "# returns the total number of relationships in the dictionary passed to it through the pararmeters\n",
    "def total_relationships(relationships):\n",
    "    d_new = count_relationships(relationships)\n",
    "    total = 0\n",
    "    for k in d_new:\n",
    "        total = total + d_new[k]\n",
    "    return total"
   ]
  },
  {
   "cell_type": "code",
   "execution_count": 32,
   "metadata": {},
   "outputs": [],
   "source": [
    "test = {'family': ['Kashmira', 'Marbin', 'Zahid', 'Zoshua'],\n",
    " 'friends': ['Utsav', 'Varun', 'Zubair'],\n",
    " 'coworkers': ['zubair', 'ansul', 'yiran']}"
   ]
  },
  {
   "cell_type": "code",
   "execution_count": 33,
   "metadata": {},
   "outputs": [
    {
     "data": {
      "text/plain": [
       "10"
      ]
     },
     "execution_count": 33,
     "metadata": {},
     "output_type": "execute_result"
    }
   ],
   "source": [
    "# Use the `total_relationships` function to count the number of people in `people_dict`\n",
    "\n",
    "# total_rel = total_relationships(people_dict)\n",
    "# for some reason my people_dict variable gets messed up after it runs in the count_relationships\n",
    "\n",
    "# I have used test due to the error I get when I try to use the people_dict variable\n",
    "total_rel = total_relationships(test)\n",
    "total_rel"
   ]
  }
 ],
 "metadata": {
  "kernelspec": {
   "display_name": "Python 3",
   "language": "python",
   "name": "python3"
  },
  "language_info": {
   "codemirror_mode": {
    "name": "ipython",
    "version": 3
   },
   "file_extension": ".py",
   "mimetype": "text/x-python",
   "name": "python",
   "nbconvert_exporter": "python",
   "pygments_lexer": "ipython3",
   "version": "3.8.8"
  }
 },
 "nbformat": 4,
 "nbformat_minor": 2
}
